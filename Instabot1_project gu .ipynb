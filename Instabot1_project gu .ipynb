{
 "cells": [
  {
   "cell_type": "markdown",
   "metadata": {},
   "source": [
    "# InstaBot Project - Part 1"
   ]
  },
  {
   "cell_type": "markdown",
   "metadata": {},
   "source": [
    "## (1)Login to your Instagram Handle"
   ]
  },
  {
   "cell_type": "markdown",
   "metadata": {},
   "source": [
    "### (1.1)Submit with sample username and password "
   ]
  },
  {
   "cell_type": "code",
   "execution_count": 3,
   "metadata": {},
   "outputs": [],
   "source": [
    "\n",
    "from selenium.webdriver.common.keys import Keys                            #provide keys in the keyboard like RETURN, F1, ALT\n",
    "from selenium.webdriver.support.ui import Select                           #to select the option html attribute\n",
    "from selenium.webdriver.support.ui import WebDriverWait                    #To use implcit and explicit wait\n",
    "from selenium.webdriver.support import expected_conditions as EC           #use in explicitly wait\n",
    "from selenium.webdriver.common.by import By                                #to select the attribute by Class,link_text\n",
    "from selenium import webdriver                                             #import web Driver\n",
    "import time                                                                #it use in wait\n",
    "from bs4 import BeautifulSoup                                              #work with attribute \n",
    "from selenium.common.exceptions import TimeoutException"
   ]
  },
  {
   "cell_type": "code",
   "execution_count": null,
   "metadata": {},
   "outputs": [],
   "source": []
  },
  {
   "cell_type": "code",
   "execution_count": null,
   "metadata": {},
   "outputs": [],
   "source": [
    "\n",
    "driver = webdriver.Chrome(executable_path = 'chromedriver/chromedriver')             #invoke chrome webdriver\n",
    "driver.get('https://www.instagram.com/')                                        #passing the instagram website link\n",
    "wait = WebDriverWait(driver, 10)                                                #wait to 10ms\n",
    "login_btn = wait.until(EC.presence_of_element_located((By.LINK_TEXT,'Log in'))) #fetching login button\n",
    "login_btn.click()                                                               #click on login button\n",
    "time.sleep(1)                                                                   #1sec sleep to move next page\n",
    "  #   =========  ( 5 marks for proper login click ) =========\n",
    "d = wait.until(EC.presence_of_element_located((By.NAME,'username')))            #click on username input box\n",
    "d.send_keys('123_kash')                                                         #sedning user name\n",
    "e=driver.find_element_by_name('password')                                       #click on password box\n",
    "e.send_keys('123_akash')                                                        #send password\n",
    "login=driver.find_element_by_class_name('L3NKy')                                #serch for login button\n",
    "login.click()                                                                   #click on login button\n",
    "exit_btn = wait.until(EC.presence_of_element_located((By.XPATH,'//div/button[contains(@class,\"HoLwm\")]'))) #search exit button \n",
    "exit_btn.click()                                                                #exit button\n",
    "\n"
   ]
  },
  {
   "cell_type": "markdown",
   "metadata": {},
   "source": []
  },
  {
   "cell_type": "markdown",
   "metadata": {},
   "source": [
    "## (2)Type for “food” in search bar and print all the names of the Instagram Handles that are displayed in list after typing “food”\n",
    "\n",
    "### Note : Make sure to avoid printing hashtags"
   ]
  },
  {
   "cell_type": "code",
   "execution_count": null,
   "metadata": {},
   "outputs": [],
   "source": [
    "a=driver.find_element_by_xpath('//input[contains(@class,\"XTCLo\")]')                    #serch box for passing input\n",
    "a.send_keys('food')                                                                    #passing food\n",
    "time.sleep(3)                                                                          #sleep 3 sec.\n",
    "handles = driver.find_elements_by_xpath('//div[@class = \"fuqBx\"]/a[\"href\"]')           #fecting top food list hadles \n",
    "\n",
    "\n",
    "food_list = []   \n",
    "for i in handles:\n",
    "    if 'explore' in i.get_attribute('href'):                                    #if explore present in link then it is hastags\n",
    "        continue\n",
    "    else:       \n",
    "        s = i.get_attribute('href').split('/')                                  #https://www.instagram.com/foodtalkindia\n",
    "        print(s[3])                                     # after split s= ['https:','','www.instagram.com','foodtalkindia']\n",
    "        food_list.append(s[3])                          #appending s[3] in food_list       \n",
    "a=driver.find_element_by_xpath('//input[contains(@class,\"XTCLo\")]') #serac input box\n",
    "a.clear()                                                           #clear box\n"
   ]
  },
  {
   "cell_type": "code",
   "execution_count": null,
   "metadata": {},
   "outputs": [],
   "source": []
  },
  {
   "cell_type": "code",
   "execution_count": null,
   "metadata": {},
   "outputs": [],
   "source": [
    "a=driver.find_element_by_class_name('coreSpriteSearchClear') #selecting clear box by class name\n",
    "a.click()                                                    #click on clear box"
   ]
  },
  {
   "cell_type": "markdown",
   "metadata": {},
   "source": [
    "## (3)Searching and Opening a profile using"
   ]
  },
  {
   "cell_type": "markdown",
   "metadata": {},
   "source": [
    "### Open profile of “So Delhi”"
   ]
  },
  {
   "cell_type": "code",
   "execution_count": null,
   "metadata": {},
   "outputs": [],
   "source": [
    "a=driver.find_element_by_xpath('//input[contains(@class,\"XTCLo\")]')         #input box     \n",
    "a.send_keys('sodelhi')\n",
    "b = wait.until(EC.presence_of_element_located((By.CLASS_NAME,'yCE8d')))     #selecting sodelhi\n",
    "b.click()\n",
    "a=driver.find_element_by_class_name('coreSpriteSearchClear') #selecting clear box by class name\n",
    "a.click()                                                    #click on clear box\n",
    "\n"
   ]
  },
  {
   "cell_type": "code",
   "execution_count": null,
   "metadata": {},
   "outputs": [],
   "source": [
    "\n"
   ]
  },
  {
   "cell_type": "markdown",
   "metadata": {},
   "source": [
    "## (4)Follow/Unfollow given handle -"
   ]
  },
  {
   "cell_type": "markdown",
   "metadata": {},
   "source": [
    "### (4.1) Open the Instagram Handle of “So Delhi”"
   ]
  },
  {
   "cell_type": "code",
   "execution_count": null,
   "metadata": {},
   "outputs": [],
   "source": [
    "a=driver.find_element_by_xpath('//input[contains(@class,\"XTCLo\")]')  #input box\n",
    "a.send_keys('sodelhi')\n",
    "b = wait.until(EC.presence_of_element_located((By.CLASS_NAME,'yCE8d'))) #serarch by class name\n",
    "b.click()\n",
    "a=driver.find_element_by_class_name('coreSpriteSearchClear') #selecting clear box by class name\n",
    "a.click()                                                    #click on clear box\n",
    "\n"
   ]
  },
  {
   "cell_type": "code",
   "execution_count": null,
   "metadata": {},
   "outputs": [],
   "source": []
  },
  {
   "cell_type": "markdown",
   "metadata": {},
   "source": [
    "### (4.2) Start following it. Print a message if you are already following "
   ]
  },
  {
   "cell_type": "code",
   "execution_count": null,
   "metadata": {},
   "outputs": [],
   "source": [
    "follow_btn = wait.until(EC.presence_of_element_located((By.XPATH,'//span[contains(@class,\"vBF20\")]/button')))  #for follow button\n",
    "if follow_btn.text.strip() == 'Following':      #checking the status\n",
    "    print(\"Already Following The Account\")\n",
    "else:\n",
    "    follow_btn.click()                          #if not following click on the follow button\n",
    "    \n"
   ]
  },
  {
   "cell_type": "code",
   "execution_count": null,
   "metadata": {},
   "outputs": [],
   "source": []
  },
  {
   "cell_type": "markdown",
   "metadata": {},
   "source": [
    "### (4.3) After following, unfollow the instagram handle. Print a message if you have already unfollowed."
   ]
  },
  {
   "cell_type": "code",
   "execution_count": null,
   "metadata": {},
   "outputs": [],
   "source": [
    "if follow_btn.text.strip() == 'Following':   #chcking status\n",
    "    follow_btn.click()                       # clicking on follow button, but already following so ask for unfollow\n",
    "    Unfollow_btn = driver.find_element_by_xpath('//div[contains(@class,\"mt3GC\")]/button') #for unfollow button\n",
    "    Unfollow_btn.click()                     #unfollow button\n",
    "else:\n",
    "    print(\"Already UNFollowed The Account\")  \n",
    "    \n"
   ]
  },
  {
   "cell_type": "code",
   "execution_count": null,
   "metadata": {},
   "outputs": [],
   "source": [
    "                   Igw0E     IwRSH      eGOV_         _4EzTm                                                                                  BI4qX            qJPeX            fm1AK   TxciK yiMZG"
   ]
  },
  {
   "cell_type": "markdown",
   "metadata": {},
   "source": [
    "### (5.1) Liking the top 30 posts of the ‘dilsefoodie'. Print message if you have already liked it."
   ]
  },
  {
   "cell_type": "code",
   "execution_count": null,
   "metadata": {},
   "outputs": [],
   "source": [
    "driver.back()"
   ]
  },
  {
   "cell_type": "code",
   "execution_count": null,
   "metadata": {},
   "outputs": [],
   "source": [
    "search = driver.find_element_by_xpath('//div[contains(@class,\"LWmhU\")]/input')     #input box\n",
    "search.send_keys('dilsefoodie')                                                    #sending keys\n",
    "b = wait.until(EC.presence_of_element_located((By.CLASS_NAME,'z556c')))            #searching sodelhi profile  \n",
    "b.click()                                                                          #clicking on profile\n",
    "for i in range(3):\n",
    "    driver.execute_script('window.scrollTo(0,document.body.scrollHeight);')        #infirst scroll we get 12 post so we making 3\n",
    "    time.sleep(2)                                     \n",
    "post = driver.find_elements_by_xpath('//div[contains(@class,\"v1Nh3\")]')            #finding post \n",
    "count = 1\n",
    "for i in post:\n",
    "    if count == 31:                                                                #checking for only 30 post \n",
    "        break\n",
    "        \n",
    "    i.click()                                                                      #clicking on each post\n",
    "    wait = WebDriverWait(driver, 10)\n",
    "    like_btn = wait.until(EC.presence_of_element_located((By.XPATH,'//span[contains(@class,\"fr66n\")]/button')))\n",
    "    Check_ctn = wait.until(EC.presence_of_element_located((By.XPATH,'//span[contains(@class,\"fr66n\")]/button/*[name()=\"svg\"]')))\n",
    "    if Check_ctn.get_attribute('aria-label') == 'Unlike':                           #checking status\n",
    "        print(\"Already Liked No.\",count,\"Post\")#for like button\n",
    "    else:\n",
    "        like_btn.click()                                                           #clicking on like button\n",
    "    close_btn = wait.until(EC.presence_of_element_located((By.XPATH,'//div[contains(@class,\"BI4qX\")]/button')))                        # post close button\n",
    "    close_btn.click()                                                              #click on close utton\n",
    "    time.sleep(1)\n",
    "    count += 1                                                                     #counting post\n",
    "    \n",
    "    \n"
   ]
  },
  {
   "cell_type": "code",
   "execution_count": null,
   "metadata": {},
   "outputs": [],
   "source": []
  },
  {
   "cell_type": "markdown",
   "metadata": {},
   "source": [
    "### (5.2) Unliking the top 30 posts of the ‘dilsefoodie’. Print message if you have already unliked it."
   ]
  },
  {
   "cell_type": "code",
   "execution_count": null,
   "metadata": {},
   "outputs": [],
   "source": []
  },
  {
   "cell_type": "code",
   "execution_count": null,
   "metadata": {},
   "outputs": [],
   "source": [
    "count = 1\n",
    "for i in post:\n",
    "    if count == 31:                             #only for 30 post codition\n",
    "        break\n",
    "        \n",
    "    i.click()                                   #clicking on post\n",
    "    time.sleep(1)\n",
    "    unlike_btn = wait.until(EC.presence_of_element_located((By.XPATH,'//span[contains(@class,\"fr66n\")]/button'))) #for like button\n",
    "    Check_ctn = wait.until(EC.presence_of_element_located((By.XPATH,'//span[contains(@class,\"fr66n\")]/button/*[name()=\"svg\"]')))\n",
    "    if Check_ctn.get_attribute('aria-label') == 'Like':                           #checking status\n",
    "        print(\"Already Unliked No.\",count,\"Post\")#for like button\n",
    "    else:\n",
    "        unlike_btn.click()                                                           #clicking on like button\n",
    "    close_btn = wait.until(EC.presence_of_element_located((By.XPATH,'//div[contains(@class,\"BI4qX\")]/button')))                        # post close button\n",
    "    close_btn.click()                                                              #click on close utton\n",
    "    time.sleep(1)\n",
    "    count += 1                                                                                                   #counting post \n",
    "    \n"
   ]
  },
  {
   "cell_type": "code",
   "execution_count": null,
   "metadata": {},
   "outputs": [],
   "source": []
  },
  {
   "cell_type": "markdown",
   "metadata": {},
   "source": [
    "### (6.1) Extract the usernames of the first 500 followers of ‘foodtalkindia’ and ‘sodelhi’."
   ]
  },
  {
   "cell_type": "code",
   "execution_count": null,
   "metadata": {},
   "outputs": [],
   "source": [
    "driver.back()"
   ]
  },
  {
   "cell_type": "code",
   "execution_count": null,
   "metadata": {},
   "outputs": [],
   "source": [
    "search = driver.find_element_by_xpath('//div[contains(@class,\"LWmhU\")]/input')      #search for input box\n",
    "search.send_keys('foodtalkindia')                                                   #passing input \n",
    "first_search = wait.until(EC.presence_of_element_located((By.CLASS_NAME,'z556c')))  #first profile\n",
    "time.sleep(2)                                                                       #waiting 2 sec for search\n",
    "first_search.click()                                                                #first search click\n",
    "followers_button = wait.until(EC.presence_of_element_located((By.XPATH,'//a[contains(@class,\"-nal3\")]'))) #follower button search\n",
    "followers_button.click()                                                            #click on followers button\n",
    "flag = False \n",
    "while True:\n",
    "    b = wait.until(EC.presence_of_element_located((By.CLASS_NAME,'isgrP')))         #search for followers\n",
    "    p = driver.find_element_by_class_name('isgrP')\n",
    "    \n",
    "    p.click()                                                        \n",
    "    driver.find_element_by_tag_name('body').send_keys(Keys.END)                    #moving end of document \n",
    "    if flag == False:\n",
    "        for i in range(6):\n",
    "            driver.find_element_by_tag_name('body').send_keys(Keys.PAGE_UP)        #to remove suggestion buttuon \n",
    "            time.sleep(1) \n",
    "        flag = True                                                                #only work for one time\n",
    "    time.sleep(1)\n",
    "    p = driver.find_element_by_class_name('isgrP')                                 #click on page of follower\n",
    "    p.click()\n",
    "    follower_list = driver.find_elements_by_xpath('//div[@class = \"isgrP\"]/ul/div/li')  #follower list\n",
    "    if len(follower_list) >= 500:                                                       #cheking for only 500 follower\n",
    "        break\n",
    "li = []\n",
    "j=0\n",
    "foodtalkindia_follower = []\n",
    "for i in follower_list:                                                                  \n",
    "    data = BeautifulSoup(i.get_attribute('innerHTML'),'html')                         #to get the name of follower             \n",
    "    li.append(data.a['href'].split('/')[1])                                           #adding name in li\n",
    "    foodtalkindia_follower.append(data.a['href'].split('/')[1])\n",
    "    j+=1\n",
    "    if j==500:                                                                        #only top 500 follower\n",
    "        break\n",
    "for i in foodtalkindia_follower:\n",
    "    print(i)\n",
    "    \n"
   ]
  },
  {
   "cell_type": "code",
   "execution_count": null,
   "metadata": {},
   "outputs": [],
   "source": [
    "driver.back()"
   ]
  },
  {
   "cell_type": "code",
   "execution_count": null,
   "metadata": {},
   "outputs": [],
   "source": [
    "search = driver.find_element_by_xpath('//div[contains(@class,\"LWmhU\")]/input')              #input box\n",
    "search.send_keys('sodelhi')\n",
    "first_search = wait.until(EC.presence_of_element_located((By.CLASS_NAME,'z556c')))          #first profile\n",
    "first_search.click()\n",
    "time.sleep(2)\n",
    "followers_button = wait.until(EC.presence_of_element_located((By.XPATH,'//a[contains(@class,\"-nal3\")]')))   #follower button\n",
    "followers_button.click()\n",
    "flag = False\n",
    "while True:\n",
    "    p = driver.find_element_by_class_name('isgrP')                                           #follower page\n",
    "    p.click()\n",
    "    driver.find_element_by_tag_name('body').send_keys(Keys.END)                              #moving to end of page\n",
    "    if flag == False:\n",
    "        for i in range(6):\n",
    "            driver.find_element_by_tag_name('body').send_keys(Keys.PAGE_UP)                  #make 6 time page up to remove first suggestion\n",
    "            time.sleep(1)\n",
    "        flag = True\n",
    "    time.sleep(1)\n",
    "    p = driver.find_element_by_class_name('isgrP')                                          #follwer page\n",
    "    p.click()\n",
    "    follower_list = driver.find_elements_by_xpath('//div[@class = \"isgrP\"]/ul/div/li')      #folllower list\n",
    "    if len(follower_list) >= 500:\n",
    "        break\n",
    "li = []\n",
    "j=0\n",
    "names = []\n",
    "for i in follower_list:\n",
    "    data = BeautifulSoup(i.get_attribute('innerHTML'),'html')                            #alreday explained \n",
    "    li.append(data.a['href'].split('/')[1])\n",
    "    names.append(data.a['href'].split('/')[1])\n",
    "    j+=1\n",
    "    if j==500:\n",
    "        break\n",
    "for i in names:\n",
    "    print(i)\n",
    "    \n"
   ]
  },
  {
   "cell_type": "code",
   "execution_count": null,
   "metadata": {},
   "outputs": [],
   "source": []
  },
  {
   "cell_type": "markdown",
   "metadata": {},
   "source": [
    "### (6.2) Now print all the followers of “foodtalkindia” that you are following but those who don’t follow you."
   ]
  },
  {
   "cell_type": "code",
   "execution_count": null,
   "metadata": {},
   "outputs": [],
   "source": [
    "driver.back()"
   ]
  },
  {
   "cell_type": "code",
   "execution_count": null,
   "metadata": {},
   "outputs": [],
   "source": [
    "search = driver.find_element_by_xpath('//div[contains(@class,\"LWmhU\")]/input')\n",
    "search.send_keys('foodtalkindia')\n",
    "first_search = wait.until(EC.presence_of_element_located((By.CLASS_NAME,'z556c')))\n",
    "first_search.click()\n",
    "time.sleep(2)\n",
    "followers_button = wait.until(EC.presence_of_element_located((By.XPATH,'//a[contains(@class,\"-nal3\")]')))\n",
    "followers_button.click()\n",
    "flag = False\n",
    "while True:\n",
    "    p = driver.find_element_by_class_name('isgrP')\n",
    "    p.click()\n",
    "    driver.find_element_by_tag_name('body').send_keys(Keys.END)\n",
    "    if flag == False:\n",
    "        for i in range(6):\n",
    "            driver.find_element_by_tag_name('body').send_keys(Keys.PAGE_UP)\n",
    "            time.sleep(1)\n",
    "        flag = True\n",
    "    time.sleep(1)\n",
    "    p = driver.find_element_by_class_name('isgrP')\n",
    "    p.click()\n",
    "    follower_list = driver.find_elements_by_xpath('//div[@class = \"isgrP\"]/ul/div/li')\n",
    "    if len(follower_list) >= 500:\n",
    "        break \n",
    "li = []\n",
    "j=0\n",
    "names = []\n",
    "for i in follower_list:\n",
    "    data = BeautifulSoup(i.get_attribute('innerHTML'),'html')\n",
    "    li.append(data.a['href'].split('/')[1])\n",
    "    names.append(data.a['href'].split('/')[1])\n",
    "    j+=1\n",
    "    if j==500:\n",
    "        break\n",
    "i=0;\n",
    "for p in follower_list:\n",
    "    data = BeautifulSoup(p.get_attribute('innerHTML'),'html')\n",
    "    if data.button.text==\"Following\":                                #only printing that follwoing that don't follow u back \n",
    "        print(names[i]) \n",
    "    i=i+1\n",
    "count=0      #for story check\n",
    "\n"
   ]
  },
  {
   "cell_type": "code",
   "execution_count": null,
   "metadata": {},
   "outputs": [],
   "source": []
  },
  {
   "cell_type": "markdown",
   "metadata": {},
   "source": [
    "## (7)Check the story of ‘coding.ninjas’. Consider the following Scenarios and print error messages accordingly -\n",
    "### (7.1)If You have already seen the story.\n",
    "### (7.2)Or The user has no story.\n",
    "### (7.3)Or View the story if not yet seen.\n"
   ]
  },
  {
   "cell_type": "code",
   "execution_count": null,
   "metadata": {},
   "outputs": [],
   "source": []
  },
  {
   "cell_type": "code",
   "execution_count": null,
   "metadata": {},
   "outputs": [],
   "source": [
    "count=0"
   ]
  },
  {
   "cell_type": "code",
   "execution_count": null,
   "metadata": {},
   "outputs": [],
   "source": [
    "\n",
    "search = driver.find_element_by_xpath('//div[contains(@class,\"LWmhU\")]/input')      #input box  \n",
    "search.send_keys('foodnetwork')\n",
    "first_search = wait.until(EC.presence_of_element_located((By.CLASS_NAME,'z556c')))  #fisrt profile\n",
    "first_search.click()\n",
    "print('Not checking the story yet and now i am going to check it')\n",
    "time.sleep(2)\n",
    "try:\n",
    "    a = wait.until(EC.presence_of_element_located((By.CLASS_NAME,'h5uC0')))\n",
    "    if count==1:\n",
    "        print(\"Already seen the Story.\")\n",
    "    else:\n",
    "        a = wait.until(EC.presence_of_element_located((By.CLASS_NAME,'_2dbep')))              #for story check button\n",
    "        a.click()\n",
    "        print(\"Seen the story\")\n",
    "        count+=1\n",
    "    \n",
    "except TimeoutException:\n",
    "    print(\"User don't has Story.\")\n",
    "    time.sleep(2)\n",
    "driver.back()\n",
    "\n"
   ]
  },
  {
   "cell_type": "code",
   "execution_count": null,
   "metadata": {},
   "outputs": [],
   "source": [
    "count=True\n",
    "for i in range(100):\n",
    "    \n",
    "\n",
    "    stories_not_viewed= driver.find_elements_by_xpath(\"//div[@class='_0G-TY ']\") \n",
    "    \n",
    "    stories_to_be_viewed= driver.find_elements_by_xpath(\"//div[@class='_0G-TY DvgU8']\") \n",
    "\n",
    "    for s in stories_not_viewed:\n",
    "        \n",
    "        \n",
    "        #print(s.get_attribute(\"outerHTML\"))\n",
    "        if(s.text==\"coding.ninjas\"):\n",
    "            print(\"coding ninjas has posted a story and it is not viewed yet\")\n",
    "            count=False\n",
    "            break\n",
    "\n",
    "    for v in stories_to_be_viewed:\n",
    "        \n",
    "\n",
    "        if(v.text==\"coding.ninjas\"):\n",
    "            print(\"coding ninjas has posted a story and it has already been viewed\")\n",
    "            count=False\n",
    "            break\n",
    "\n",
    "\n",
    "    \n",
    "    element_stories= driver.find_element_by_xpath(\"//div[@class='qf6s4 lGuO0']\")\n",
    "    if ((element_stories.get_attribute(\"padding-right\"))==\"0px\"):\n",
    "        break\n",
    "   \n",
    "    #driver.execute_script(\"arguments[0].setAttribute('style', 'padding-left:80*(i)')\",element_stories)\n",
    "#ku8Bn \n",
    "    driver.execute_script(\"arguments[0].scrollBy(80,0);\",element_stories)\n",
    "\n",
    "    \n"
   ]
  }
 ],
 "metadata": {
  "kernelspec": {
   "display_name": "Python 3",
   "language": "python",
   "name": "python3"
  },
  "language_info": {
   "codemirror_mode": {
    "name": "ipython",
    "version": 3
   },
   "file_extension": ".py",
   "mimetype": "text/x-python",
   "name": "python",
   "nbconvert_exporter": "python",
   "pygments_lexer": "ipython3",
   "version": "3.7.4"
  }
 },
 "nbformat": 4,
 "nbformat_minor": 2
}
